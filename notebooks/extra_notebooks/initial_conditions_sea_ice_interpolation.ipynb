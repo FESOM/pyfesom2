{
 "cells": [
  {
   "cell_type": "code",
   "execution_count": 1,
   "id": "available-minneapolis",
   "metadata": {},
   "outputs": [],
   "source": [
    "import xarray as xr\n",
    "import pyfesom2 as pf\n",
    "import numpy as np\n",
    "from scipy.spatial import cKDTree\n",
    "import matplotlib.pylab as plt"
   ]
  },
  {
   "cell_type": "code",
   "execution_count": 2,
   "id": "taken-murder",
   "metadata": {},
   "outputs": [],
   "source": [
    "def interpolate_kdtree2d(\n",
    "    data_in,\n",
    "    x2,\n",
    "    y2,\n",
    "    lons,\n",
    "    lats,\n",
    "    distances,\n",
    "    inds,\n",
    "    radius_of_influence=50000,\n",
    "    mask_zero=True,\n",
    "):\n",
    "    \"\"\"Interpolates from points of unstructured mesh to regular grid.\n",
    "    This version puts 0 where values are not present.\"\"\"\n",
    "\n",
    "    interpolated = data_in[inds]\n",
    "    interpolated[distances >= radius_of_influence] = 0\n",
    "    if mask_zero:\n",
    "        interpolated[interpolated == 0] = np.nan\n",
    "    interpolated.shape = lons.shape\n",
    "\n",
    "    return interpolated"
   ]
  },
  {
   "cell_type": "markdown",
   "id": "improving-hours",
   "metadata": {},
   "source": [
    "Load mesh:"
   ]
  },
  {
   "cell_type": "code",
   "execution_count": 3,
   "id": "massive-wireless",
   "metadata": {},
   "outputs": [
    {
     "name": "stdout",
     "output_type": "stream",
     "text": [
      "/work/ollie/projects/clidyn/FESOM2/meshes/core2/pickle_mesh_py3_fesom2\n",
      "The usepickle == True)\n",
      "The pickle file for FESOM2 exists.\n",
      "The mesh will be loaded from /work/ollie/projects/clidyn/FESOM2/meshes/core2/pickle_mesh_py3_fesom2\n"
     ]
    }
   ],
   "source": [
    "mesh = pf.load_mesh('/work/ollie/projects/clidyn/FESOM2/meshes/core2/')"
   ]
  },
  {
   "cell_type": "markdown",
   "id": "boolean-education",
   "metadata": {},
   "source": [
    "Prepear regular grid:"
   ]
  },
  {
   "cell_type": "code",
   "execution_count": 4,
   "id": "popular-jungle",
   "metadata": {},
   "outputs": [],
   "source": [
    "# lon = np.linspace(0.5, 359.5, 360)\n",
    "# lat = np.linspace(-89.5, 89.5, 180)\n",
    "# lon2, lat2 = np.meshgrid(lon, lat)\n",
    "lon = np.linspace(0, 360, 360)\n",
    "lat = np.linspace(-90, 90, 180)\n",
    "lon2, lat2 = np.meshgrid(lon, lat)"
   ]
  },
  {
   "cell_type": "markdown",
   "id": "critical-radio",
   "metadata": {},
   "source": [
    "Convert model longitude coordinates to [0..360] format"
   ]
  },
  {
   "cell_type": "code",
   "execution_count": 5,
   "id": "labeled-charles",
   "metadata": {},
   "outputs": [],
   "source": [
    "model_lon = np.where(mesh.x2<0, mesh.x2+360, mesh.x2)"
   ]
  },
  {
   "cell_type": "markdown",
   "id": "everyday-charleston",
   "metadata": {},
   "source": [
    "Compute distances and indices fro neares neighbour interploation:"
   ]
  },
  {
   "cell_type": "code",
   "execution_count": 6,
   "id": "competent-alignment",
   "metadata": {},
   "outputs": [],
   "source": [
    "distances, inds = pf.create_indexes_and_distances(mesh, lon2, lat2, k=1)"
   ]
  },
  {
   "cell_type": "markdown",
   "id": "wrapped-bullet",
   "metadata": {},
   "source": [
    "Read data that we would like to interpolate:"
   ]
  },
  {
   "cell_type": "code",
   "execution_count": 7,
   "id": "going-legislature",
   "metadata": {},
   "outputs": [],
   "source": [
    "ice_a = xr.open_dataset('/work/ollie/nkolduno/samuel/a_ice.fesom.1977.nc')\n",
    "ice_m = xr.open_dataset('/work/ollie/nkolduno/samuel/m_ice.fesom.1977.nc')\n",
    "ice_s = xr.open_dataset('/work/ollie/nkolduno/samuel/m_snow.fesom.1977.nc')"
   ]
  },
  {
   "cell_type": "markdown",
   "id": "turkish-interaction",
   "metadata": {},
   "source": [
    "Interpolation for ice area. We take first time step. You might want to adjust radius_of_influence. We also put `mask_zero=False` to have 0 where we don't have sea ice."
   ]
  },
  {
   "cell_type": "code",
   "execution_count": 16,
   "id": "loved-easter",
   "metadata": {},
   "outputs": [],
   "source": [
    "a_interpolated = interpolate_kdtree2d(np.ma.filled(ice_a.a_ice[0,:].values, 0),\n",
    "                                      model_lon, mesh.y2, lon2, lat2, distances, inds, mask_zero=False)"
   ]
  },
  {
   "cell_type": "code",
   "execution_count": 9,
   "id": "economic-election",
   "metadata": {},
   "outputs": [],
   "source": [
    "a_ice = xr.Dataset(\n",
    "        {'a_ice': ([ \"lat\", \"lon\"], a_interpolated)},\n",
    "        coords={\n",
    "            \"lat\": ([\"lat\"], lat),\n",
    "            \"lon\": ([\"lon\"], lon),\n",
    "        },\n",
    "    )"
   ]
  },
  {
   "cell_type": "code",
   "execution_count": 10,
   "id": "enclosed-think",
   "metadata": {},
   "outputs": [
    {
     "data": {
      "text/plain": [
       "<matplotlib.collections.QuadMesh at 0x7f2e3d00cfd0>"
      ]
     },
     "execution_count": 10,
     "metadata": {},
     "output_type": "execute_result"
    },
    {
     "data": {
      "image/png": "[encoded data removed]",
      "text/plain": [
       "<Figure size 432x288 with 2 Axes>"
      ]
     },
     "metadata": {
      "needs_background": "light"
     },
     "output_type": "display_data"
    }
   ],
   "source": [
    "a_ice.a_ice.plot()"
   ]
  },
  {
   "cell_type": "markdown",
   "id": "immediate-recognition",
   "metadata": {},
   "source": [
    "Save data:"
   ]
  },
  {
   "cell_type": "code",
   "execution_count": 11,
   "id": "coastal-sheep",
   "metadata": {},
   "outputs": [],
   "source": [
    "a_ice.to_netcdf('a_ice2.nc')"
   ]
  },
  {
   "cell_type": "markdown",
   "id": "entertaining-crest",
   "metadata": {},
   "source": [
    "Interpolation for sea ice thickness:"
   ]
  },
  {
   "cell_type": "code",
   "execution_count": 13,
   "id": "supreme-manual",
   "metadata": {},
   "outputs": [],
   "source": [
    "m_interpolated = interpolate_kdtree2d(np.ma.filled(ice_m.m_ice[0,:].values, 0),\n",
    "                                      model_lon, mesh.y2, lon2, lat2, distances, inds, mask_zero=False)"
   ]
  },
  {
   "cell_type": "code",
   "execution_count": 14,
   "id": "floppy-hammer",
   "metadata": {},
   "outputs": [],
   "source": [
    "m_ice = xr.Dataset(\n",
    "        {'m_ice': ([ \"lat\", \"lon\"], m_interpolated)},\n",
    "        coords={\n",
    "            \"lat\": ([\"lat\"], lat),\n",
    "            \"lon\": ([\"lon\"], lon),\n",
    "        },\n",
    "    )"
   ]
  },
  {
   "cell_type": "code",
   "execution_count": 15,
   "id": "random-upgrade",
   "metadata": {},
   "outputs": [
    {
     "data": {
      "text/plain": [
       "<matplotlib.collections.QuadMesh at 0x7f2e55843400>"
      ]
     },
     "execution_count": 15,
     "metadata": {},
     "output_type": "execute_result"
    },
    {
     "data": {
      "image/png": "[encoded data removed]",
      "text/plain": [
       "<Figure size 432x288 with 2 Axes>"
      ]
     },
     "metadata": {
      "needs_background": "light"
     },
     "output_type": "display_data"
    }
   ],
   "source": [
    "m_ice.m_ice.plot()"
   ]
  },
  {
   "cell_type": "code",
   "execution_count": 126,
   "id": "sunset-crack",
   "metadata": {},
   "outputs": [],
   "source": [
    "m_ice.to_netcdf('m_ice2.nc')"
   ]
  },
  {
   "cell_type": "markdown",
   "id": "naval-mentor",
   "metadata": {},
   "source": [
    "Interpolation of snow on sea ice."
   ]
  },
  {
   "cell_type": "code",
   "execution_count": 128,
   "id": "israeli-seven",
   "metadata": {},
   "outputs": [],
   "source": [
    "s_interpolated = interpolate_kdtree2d(np.ma.filled(ice_s.m_snow[0,:].values, 0),\n",
    "                                      model_lon, mesh.y2, lon2, lat2, distances, inds, mask_zero=False)"
   ]
  },
  {
   "cell_type": "code",
   "execution_count": 129,
   "id": "musical-blend",
   "metadata": {},
   "outputs": [],
   "source": [
    "m_snow = xr.Dataset(\n",
    "        {'m_snow': ([ \"lat\", \"lon\"], s_interpolated)},\n",
    "        coords={\n",
    "            \"lat\": ([\"lat\"], lat),\n",
    "            \"lon\": ([\"lon\"], lon),\n",
    "        },\n",
    "    )"
   ]
  },
  {
   "cell_type": "code",
   "execution_count": 130,
   "id": "welsh-balloon",
   "metadata": {},
   "outputs": [
    {
     "data": {
      "text/plain": [
       "<matplotlib.collections.QuadMesh at 0x7f3c5620f880>"
      ]
     },
     "execution_count": 130,
     "metadata": {},
     "output_type": "execute_result"
    },
    {
     "data": {
      "image/png": "[encoded data removed]",
      "text/plain": [
       "<Figure size 432x288 with 2 Axes>"
      ]
     },
     "metadata": {
      "needs_background": "light"
     },
     "output_type": "display_data"
    }
   ],
   "source": [
    "m_snow.m_snow.plot()"
   ]
  },
  {
   "cell_type": "code",
   "execution_count": 131,
   "id": "technological-matthew",
   "metadata": {},
   "outputs": [],
   "source": [
    "m_snow.to_netcdf('m_snow2.nc')"
   ]
  },
  {
   "cell_type": "code",
   "execution_count": null,
   "id": "otherwise-tuning",
   "metadata": {},
   "outputs": [],
   "source": []
  }
 ],
 "metadata": {
  "kernelspec": {
   "display_name": "Python 3",
   "language": "python",
   "name": "python3"
  },
  "language_info": {
   "codemirror_mode": {
    "name": "ipython",
    "version": 3
   },
   "file_extension": ".py",
   "mimetype": "text/x-python",
   "name": "python",
   "nbconvert_exporter": "python",
   "pygments_lexer": "ipython3",
   "version": "3.8.6"
  }
 },
 "nbformat": 4,
 "nbformat_minor": 5
}
