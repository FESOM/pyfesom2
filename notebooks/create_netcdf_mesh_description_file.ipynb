{
 "cells": [
  {
   "cell_type": "markdown",
   "metadata": {},
   "source": [
    "# Create netCDF mesh description file"
   ]
  },
  {
   "cell_type": "markdown",
   "metadata": {},
   "source": [
    "This notebook gives an example of how to:\n",
    "a) read the ASCII files that make up a FESOM mesh \n",
    "b) compute a number of mesh caracteristics. \n",
    "c) save the mesh as a [CDO](https://code.mpimet.mpg.de/projects/cdo) readable netCDF file for further use."
   ]
  },
  {
   "cell_type": "code",
   "execution_count": 1,
   "metadata": {},
   "outputs": [],
   "source": [
    "import pyfesom2 as pf"
   ]
  },
  {
   "cell_type": "code",
   "execution_count": 2,
   "metadata": {},
   "outputs": [],
   "source": [
    "griddir='/work/ab0246/a270092/input/fesom2/core2/'"
   ]
  },
  {
   "cell_type": "code",
   "execution_count": 3,
   "metadata": {},
   "outputs": [
    {
     "name": "stdout",
     "output_type": "stream",
     "text": [
      "reading node (grid point) coordinates and coast information ...\n",
      "... done. grid contains 126858 nodes of which 9311.0 are coastal (according to info in nod2d.out).\n",
      "... execution Time: 0.22 seconds\n",
      "reading neighbourhood (triangular elements) information ...\n",
      "... done. grid contains 244659 triangular elements.\n",
      "... execution Time: 0.55 seconds\n",
      "reordering clockwise triangular elements counterclockwise ...\n",
      "... done. 5 of 244659 elements reordered.\n",
      "... execution Time: 6.45 seconds\n",
      "reading 3D information ...\n",
      "... done. Grid over all levels contains 3705887 elements.\n",
      "... execution Time: 0.27 seconds\n",
      "searching all neighbors of each node based on the triangular elements ...\n",
      "... done. number of neighbors ranges from 3 to 9 nodes and is 5.8592 on average.\n",
      "... execution Time: 13.15 seconds\n",
      "determining which elements include coastal nodes ...\n",
      "... done. grid features 9365 elements that contain coastal nodes.\n",
      "... execution Time: 1.04 seconds\n",
      "computing barycenters (centroids) for all triangular elements ...\n",
      "... done.\n",
      "... execution Time: 7.22 seconds\n",
      "generate 'stamp polygons' around each node ...\n",
      "... done. number of 'stamp polygon' vertices per node ranges from 6 (before padding) to 18 and is 11.7184 on average (before padding).\n",
      "... execution Time: 24.73 seconds\n",
      "computing element and 'stamp polygon' areas ...\n",
      "... done.\n",
      "... execution Time: 57.7 seconds\n"
     ]
    }
   ],
   "source": [
    "grid = pf.read_fesom_ascii_grid(griddir=griddir)"
   ]
  },
  {
   "cell_type": "code",
   "execution_count": 4,
   "metadata": {},
   "outputs": [
    {
     "name": "stdout",
     "output_type": "stream",
     "text": [
      "the grid has 126858 nodes (grid points) with up to 18 stamp polygon vertices per node.\n",
      "the grid has 48 vertical levels.\n",
      "overwriting existing file ...\n",
      "Horizontal grid description file complete.\n",
      "You can use this file to set the horizontal grid of a corresponding NetCDF file with 'cdo setgrid,/work/ab0246/a270092/input/fesom2/core2/mesh.nc ifile.nc ofile.nc'.\n"
     ]
    }
   ],
   "source": [
    "pf.write_mesh_to_netcdf(grid, ofile=griddir+'mesh.nc',overwrite=True)"
   ]
  },
  {
   "cell_type": "markdown",
   "metadata": {},
   "source": [
    "Lets check the mesh description file we created:"
   ]
  },
  {
   "cell_type": "code",
   "execution_count": 5,
   "metadata": {},
   "outputs": [
    {
     "name": "stdout",
     "output_type": "stream",
     "text": [
      "Dimensions:\n",
      "ncells: 126858\n",
      "vertices: 18\n",
      "nlinks_max: 9\n",
      "ntriags: 244659\n",
      "Three: 3\n",
      "nlev: 48\n",
      "nlev_bnds: 49\n",
      "\n",
      "Variables:\n",
      "lon: (126858,) \n",
      "lon_bnds: (18, 126858) \n",
      "lat: (126858,) \n",
      "lat_bnds: (18, 126858) \n",
      "cell_area: (126858,) \n",
      "node_node_links: (9, 126858) \n",
      "triag_nodes: (3, 244659) \n",
      "coast: (126858,) \n",
      "depth: (48,) \n",
      "depth_bnds: (49,) \n",
      "depth_lev: (126858,) \n",
      "\n",
      "Global attributes:\n",
      "Conventions: CF-1.4\n",
      "History: 2023-08-09 18:45:17 GMT; Grid description file generated with pyfesom2 version :0.2.0.; Grid written with: writeCDO(grid, ofile='/work/ab0246/a270092/input/fesom2/core2/mesh.nc', netcdf=True, netcdf_prec='double', ascii_digits=inf, overwrite=True, verbose=True, cell_area=True, node_node_links=True, triag_nodes=True, coast=True, depth=True, ofile_ZAXIS=None, fesom2velocities=False, conventions='original', cavity=False)\n"
     ]
    }
   ],
   "source": [
    "import netCDF4 as nc\n",
    "\n",
    "# Replace 'your_file.nc' with the path to your actual NetCDF file\n",
    "file_path = griddir+'mesh.nc'\n",
    "\n",
    "# Open the NetCDF file in read mode\n",
    "nc_file = nc.Dataset(file_path, 'r')\n",
    "\n",
    "# Get information about the dimensions, variables, and global attributes\n",
    "print(\"Dimensions:\")\n",
    "for dimname, dim in nc_file.dimensions.items():\n",
    "    print(f\"{dimname}: {len(dim)}\")\n",
    "\n",
    "print(\"\\nVariables:\")\n",
    "for varname, var in nc_file.variables.items():\n",
    "    print(f\"{varname}: {var.shape} {var.units if 'units' in var.ncattrs() else ''}\")\n",
    "\n",
    "print(\"\\nGlobal attributes:\")\n",
    "for attrname in nc_file.ncattrs():\n",
    "    print(f\"{attrname}: {getattr(nc_file, attrname)}\")\n",
    "\n",
    "# Close the NetCDF file after reading\n",
    "nc_file.close()"
   ]
  },
  {
   "cell_type": "markdown",
   "metadata": {},
   "source": [
    "Optionally we can add the description of an ice cavity, if the mesh contains one. To do so we set `cavity=True`"
   ]
  },
  {
   "cell_type": "code",
   "execution_count": 6,
   "metadata": {},
   "outputs": [
    {
     "name": "stdout",
     "output_type": "stream",
     "text": [
      "reading node (grid point) coordinates and coast information ...\n",
      "... done. grid contains 132273 nodes of which 9894.0 are coastal (according to info in nod2d.out).\n",
      "... execution Time: 0.3 seconds\n",
      "reading neighbourhood (triangular elements) information ...\n",
      "... done. grid contains 254926 triangular elements.\n",
      "... execution Time: 0.45 seconds\n",
      "reordering clockwise triangular elements counterclockwise ...\n",
      "... done. 10272 of 254926 elements reordered.\n",
      "... execution Time: 5.96 seconds\n",
      "reading 3D information ...\n",
      "... done. Grid over all levels contains 3837989 elements.\n",
      "... execution Time: 0.14 seconds\n",
      "searching all neighbors of each node based on the triangular elements ...\n",
      "... done. number of neighbors ranges from 3 to 9 nodes and is 5.8566 on average.\n",
      "... execution Time: 13.63 seconds\n",
      "determining which elements include coastal nodes ...\n",
      "... done. grid features 9954 elements that contain coastal nodes.\n",
      "... execution Time: 1.08 seconds\n",
      "computing barycenters (centroids) for all triangular elements ...\n",
      "... done.\n",
      "... execution Time: 7.46 seconds\n",
      "generate 'stamp polygons' around each node ...\n",
      "... done. number of 'stamp polygon' vertices per node ranges from 6 (before padding) to 18 and is 11.7132 on average (before padding).\n",
      "... execution Time: 25.84 seconds\n",
      "computing element and 'stamp polygon' areas ...\n",
      "... done.\n",
      "... execution Time: 59.91 seconds\n",
      "the grid has 132273 nodes (grid points) with up to 18 stamp polygon vertices per node.\n",
      "the grid has 48 vertical levels.\n",
      "overwriting existing file ...\n",
      "Horizontal grid description file complete.\n",
      "You can use this file to set the horizontal grid of a corresponding NetCDF file with 'cdo setgrid,/work/ab0246/a270092/input/fesom2/PI_ICEv2/mesh.nc ifile.nc ofile.nc'.\n"
     ]
    }
   ],
   "source": [
    "griddir='/work/ab0246/a270092/input/fesom2/PI_ICEv2/'\n",
    "grid = pf.read_fesom_ascii_grid(griddir=griddir, cavity=True)\n",
    "pf.write_mesh_to_netcdf(grid, ofile=griddir+'mesh.nc',overwrite=True, cavity=True)"
   ]
  },
  {
   "cell_type": "markdown",
   "metadata": {},
   "source": [
    "We can see the cavity  in the resulting mesh description file."
   ]
  },
  {
   "cell_type": "code",
   "execution_count": 7,
   "metadata": {},
   "outputs": [
    {
     "name": "stdout",
     "output_type": "stream",
     "text": [
      "Dimensions:\n",
      "ncells: 132273\n",
      "vertices: 18\n",
      "nlinks_max: 9\n",
      "ntriags: 254926\n",
      "Three: 3\n",
      "nlev: 48\n",
      "nlev_bnds: 49\n",
      "\n",
      "Variables:\n",
      "lon: (132273,) \n",
      "lon_bnds: (18, 132273) \n",
      "lat: (132273,) \n",
      "lat_bnds: (18, 132273) \n",
      "cell_area: (132273,) \n",
      "node_node_links: (9, 132273) \n",
      "triag_nodes: (3, 254926) \n",
      "coast: (132273,) \n",
      "depth: (48,) \n",
      "depth_bnds: (49,) \n",
      "depth_lev: (132273,) \n",
      "cav_nod_depth: (132273,) \n",
      "cav_nod_lev: (132273,) \n",
      "cav_elem_lev: (254926,) \n",
      "cav_nod_mask: (132273,) \n",
      "\n",
      "Global attributes:\n",
      "Conventions: CF-1.4\n",
      "History: 2023-08-09 18:47:12 GMT; Grid description file generated with pyfesom2 version :0.2.0.; Grid written with: writeCDO(grid, ofile='/work/ab0246/a270092/input/fesom2/PI_ICEv2/mesh.nc', netcdf=True, netcdf_prec='double', ascii_digits=inf, overwrite=True, verbose=True, cell_area=True, node_node_links=True, triag_nodes=True, coast=True, depth=True, ofile_ZAXIS=None, fesom2velocities=False, conventions='original', cavity=True)\n"
     ]
    }
   ],
   "source": [
    "import netCDF4 as nc\n",
    "\n",
    "# Replace 'your_file.nc' with the path to your actual NetCDF file\n",
    "file_path = griddir+'mesh.nc'\n",
    "\n",
    "# Open the NetCDF file in read mode\n",
    "nc_file = nc.Dataset(file_path, 'r')\n",
    "\n",
    "# Get information about the dimensions, variables, and global attributes\n",
    "print(\"Dimensions:\")\n",
    "for dimname, dim in nc_file.dimensions.items():\n",
    "    print(f\"{dimname}: {len(dim)}\")\n",
    "\n",
    "print(\"\\nVariables:\")\n",
    "for varname, var in nc_file.variables.items():\n",
    "    print(f\"{varname}: {var.shape} {var.units if 'units' in var.ncattrs() else ''}\")\n",
    "\n",
    "print(\"\\nGlobal attributes:\")\n",
    "for attrname in nc_file.ncattrs():\n",
    "    print(f\"{attrname}: {getattr(nc_file, attrname)}\")\n",
    "\n",
    "# Close the NetCDF file after reading\n",
    "nc_file.close()"
   ]
  },
  {
   "cell_type": "code",
   "execution_count": null,
   "metadata": {},
   "outputs": [],
   "source": []
  }
 ],
 "metadata": {
  "kernelspec": {
   "display_name": "Python 3 (ipykernel)",
   "language": "python",
   "name": "python3"
  },
  "language_info": {
   "codemirror_mode": {
    "name": "ipython",
    "version": 3
   },
   "file_extension": ".py",
   "mimetype": "text/x-python",
   "name": "python",
   "nbconvert_exporter": "python",
   "pygments_lexer": "ipython3",
   "version": "3.9.13"
  }
 },
 "nbformat": 4,
 "nbformat_minor": 4
}
