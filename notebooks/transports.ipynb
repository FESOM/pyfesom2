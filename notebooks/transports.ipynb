{
 "cells": [
  {
   "cell_type": "code",
   "execution_count": 5,
   "id": "5547b5dd-7a8c-4906-a2d4-1b5190ee660e",
   "metadata": {
    "tags": []
   },
   "outputs": [],
   "source": [
    "import pyfesom2 as pf\n",
    "import numpy as np"
   ]
  },
  {
   "cell_type": "code",
   "execution_count": 8,
   "id": "671fef0c-69e6-4647-84ce-303de60d295e",
   "metadata": {},
   "outputs": [
    {
     "name": "stdout",
     "output_type": "stream",
     "text": [
      "/Users/fheukamp/Desktop/fesom2_test_year/pickle_mesh_py3_fesom2\n",
      "The usepickle == True)\n",
      "The pickle file for FESOM2 exists.\n",
      "The mesh will be loaded from /Users/fheukamp/Desktop/fesom2_test_year/pickle_mesh_py3_fesom2\n"
     ]
    },
    {
     "name": "stderr",
     "output_type": "stream",
     "text": [
      "/Users/fheukamp/Documents/Software/pyfesom2/pyfesom2/transport.py:157: UserWarning: For zonal sections the length of the non-great-circle section is computed with a                        reference length of 111.568 km/°E * cos(lat)\n",
      "  warnings.warn('For zonal sections the length of the non-great-circle section is computed with a \\\n"
     ]
    },
    {
     "name": "stdout",
     "output_type": "stream",
     "text": [
      "[########################################] | 100% Completed |  0.2s\n",
      "[########################################] | 100% Completed |  0.2s\n",
      "[########################################] | 100% Completed |  0.1s\n",
      "[########################################] | 100% Completed |  0.1s\n",
      "[########################################] | 100% Completed |  0.1s\n"
     ]
    },
    {
     "ename": "NameError",
     "evalue": "name 'pf' is not defined",
     "output_type": "error",
     "traceback": [
      "\u001b[0;31m---------------------------------------------------------------------------\u001b[0m",
      "\u001b[0;31mNameError\u001b[0m                                 Traceback (most recent call last)",
      "\u001b[0;32m/var/folders/wl/jf7zyjyd0ks0xbyx8lrvyfz1kf5rzz/T/ipykernel_3424/4048517014.py\u001b[0m in \u001b[0;36m<module>\u001b[0;34m\u001b[0m\n\u001b[0;32m----> 1\u001b[0;31m pf.cross_section_transports('FRAMSTRAIT',\n\u001b[0m\u001b[1;32m      2\u001b[0m                             \u001b[0mmesh_path\u001b[0m\u001b[0;34m=\u001b[0m\u001b[0;34m'/Users/fheukamp/Desktop/fesom2_test_year/'\u001b[0m\u001b[0;34m,\u001b[0m\u001b[0;34m\u001b[0m\u001b[0;34m\u001b[0m\u001b[0m\n\u001b[1;32m      3\u001b[0m                             \u001b[0mdata_path\u001b[0m\u001b[0;34m=\u001b[0m\u001b[0;34m'/Users/fheukamp/Desktop/fesom2_test_year/'\u001b[0m\u001b[0;34m,\u001b[0m\u001b[0;34m\u001b[0m\u001b[0;34m\u001b[0m\u001b[0m\n\u001b[1;32m      4\u001b[0m                             \u001b[0mmesh_diag_path\u001b[0m\u001b[0;34m=\u001b[0m\u001b[0;34m'/Users/fheukamp/Desktop/fesom2_test_year/fesom.mesh.diag.nc'\u001b[0m\u001b[0;34m,\u001b[0m\u001b[0;34m\u001b[0m\u001b[0;34m\u001b[0m\u001b[0m\n\u001b[1;32m      5\u001b[0m                             \u001b[0myears\u001b[0m\u001b[0;34m=\u001b[0m\u001b[0mnp\u001b[0m\u001b[0;34m.\u001b[0m\u001b[0marange\u001b[0m\u001b[0;34m(\u001b[0m\u001b[0;36m2000\u001b[0m\u001b[0;34m,\u001b[0m\u001b[0;36m2001\u001b[0m\u001b[0;34m)\u001b[0m\u001b[0;34m,\u001b[0m\u001b[0;34m\u001b[0m\u001b[0;34m\u001b[0m\u001b[0m\n",
      "\u001b[0;32m~/Documents/Software/pyfesom2/pyfesom2/transport.py\u001b[0m in \u001b[0;36mcross_section_transports\u001b[0;34m(section, mesh_path, data_path, mesh_diag_path, years, use_great_circle, how, add_extent, abg, add_TS, add_IT, chunks)\u001b[0m\n\u001b[1;32m    872\u001b[0m \u001b[0;34m\u001b[0m\u001b[0m\n\u001b[1;32m    873\u001b[0m     \u001b[0;32mif\u001b[0m \u001b[0madd_IT\u001b[0m\u001b[0;34m:\u001b[0m\u001b[0;34m\u001b[0m\u001b[0;34m\u001b[0m\u001b[0m\n\u001b[0;32m--> 874\u001b[0;31m         \u001b[0mds\u001b[0m \u001b[0;34m=\u001b[0m \u001b[0m_AddIceTransport\u001b[0m\u001b[0;34m(\u001b[0m\u001b[0msection\u001b[0m\u001b[0;34m,\u001b[0m \u001b[0mds\u001b[0m\u001b[0;34m,\u001b[0m \u001b[0mdata_path\u001b[0m\u001b[0;34m,\u001b[0m \u001b[0mmesh\u001b[0m\u001b[0;34m,\u001b[0m \u001b[0mabg\u001b[0m\u001b[0;34m)\u001b[0m\u001b[0;34m\u001b[0m\u001b[0;34m\u001b[0m\u001b[0m\n\u001b[0m\u001b[1;32m    875\u001b[0m \u001b[0;34m\u001b[0m\u001b[0m\n\u001b[1;32m    876\u001b[0m     \u001b[0;32mreturn\u001b[0m \u001b[0mds\u001b[0m\u001b[0;34m,\u001b[0m \u001b[0msection\u001b[0m\u001b[0;34m\u001b[0m\u001b[0;34m\u001b[0m\u001b[0m\n",
      "\u001b[0;32m~/Documents/Software/pyfesom2/pyfesom2/transport.py\u001b[0m in \u001b[0;36m_AddIceTransport\u001b[0;34m(section, ds, data_path, mesh, abg)\u001b[0m\n\u001b[1;32m    767\u001b[0m         \u001b[0mlat_elem_center\u001b[0m \u001b[0;34m=\u001b[0m \u001b[0mnp\u001b[0m\u001b[0;34m.\u001b[0m\u001b[0mmean\u001b[0m\u001b[0;34m(\u001b[0m\u001b[0mmesh\u001b[0m\u001b[0;34m.\u001b[0m\u001b[0my2\u001b[0m\u001b[0;34m[\u001b[0m\u001b[0mds\u001b[0m\u001b[0;34m.\u001b[0m\u001b[0melem_nods\u001b[0m\u001b[0;34m]\u001b[0m\u001b[0;34m,\u001b[0m \u001b[0maxis\u001b[0m\u001b[0;34m=\u001b[0m\u001b[0;36m1\u001b[0m\u001b[0;34m)\u001b[0m\u001b[0;34m\u001b[0m\u001b[0;34m\u001b[0m\u001b[0m\n\u001b[1;32m    768\u001b[0m \u001b[0;34m\u001b[0m\u001b[0m\n\u001b[0;32m--> 769\u001b[0;31m         u_ice_nods, v_ice_nods = pf.vec_rotate_r2g(abg[0], abg[1], abg[2], lon_elem_center[np.newaxis, :, np.newaxis],\n\u001b[0m\u001b[1;32m    770\u001b[0m                                                    lat_elem_center[np.newaxis, :, np.newaxis], u_ice_nods, v_ice_nods, flag=1)\n\u001b[1;32m    771\u001b[0m \u001b[0;34m\u001b[0m\u001b[0m\n",
      "\u001b[0;31mNameError\u001b[0m: name 'pf' is not defined"
     ]
    }
   ],
   "source": [
    "pf.cross_section_transports('FRAMSTRAIT',\n",
    "                            mesh_path='/Users/fheukamp/Desktop/fesom2_test_year/',\n",
    "                            data_path='/Users/fheukamp/Desktop/fesom2_test_year/',\n",
    "                            mesh_diag_path='/Users/fheukamp/Desktop/fesom2_test_year/fesom.mesh.diag.nc',\n",
    "                            years=np.arange(2000,2001),\n",
    "                            use_great_circle=False,\n",
    "                            how='ori',\n",
    "                            add_IT=True,\n",
    "                            add_TS=True\n",
    "                           )"
   ]
  },
  {
   "cell_type": "code",
   "execution_count": null,
   "id": "edd1dbc9-3463-4423-a0b1-2bc1fdb0761b",
   "metadata": {},
   "outputs": [],
   "source": []
  }
 ],
 "metadata": {
  "kernelspec": {
   "display_name": "Python 3 (ipykernel)",
   "language": "python",
   "name": "python3"
  },
  "language_info": {
   "codemirror_mode": {
    "name": "ipython",
    "version": 3
   },
   "file_extension": ".py",
   "mimetype": "text/x-python",
   "name": "python",
   "nbconvert_exporter": "python",
   "pygments_lexer": "ipython3",
   "version": "3.9.7"
  }
 },
 "nbformat": 4,
 "nbformat_minor": 5
}
